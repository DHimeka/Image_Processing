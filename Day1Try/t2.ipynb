{
 "cells": [
  {
   "cell_type": "code",
   "execution_count": 7,
   "metadata": {},
   "outputs": [
    {
     "ename": "error",
     "evalue": "OpenCV(4.8.0) D:\\a\\opencv-python\\opencv-python\\opencv\\modules\\imgproc\\src\\color.cpp:182: error: (-215:Assertion failed) !_src.empty() in function 'cv::cvtColor'\n",
     "output_type": "error",
     "traceback": [
      "\u001b[1;31m---------------------------------------------------------------------------\u001b[0m",
      "\u001b[1;31merror\u001b[0m                                     Traceback (most recent call last)",
      "Cell \u001b[1;32mIn[7], line 5\u001b[0m\n\u001b[0;32m      3\u001b[0m \u001b[39mimport\u001b[39;00m \u001b[39mmatplotlib\u001b[39;00m\u001b[39m.\u001b[39;00m\u001b[39mpyplot\u001b[39;00m \u001b[39mas\u001b[39;00m \u001b[39mplt\u001b[39;00m\n\u001b[0;32m      4\u001b[0m im\u001b[39m=\u001b[39mcv\u001b[39m.\u001b[39mimread(\u001b[39m\"\u001b[39m\u001b[39mScreenshot.png\u001b[39m\u001b[39m\"\u001b[39m,cv\u001b[39m.\u001b[39mIMREAD_COLOR)\n\u001b[1;32m----> 5\u001b[0m im\u001b[39m=\u001b[39mcv\u001b[39m.\u001b[39;49mcvtColor(im,cv\u001b[39m.\u001b[39;49mCOLOR_BGR2RGB)\n\u001b[0;32m      6\u001b[0m fig,ax\u001b[39m=\u001b[39mplt\u001b[39m.\u001b[39msubplots()\n\u001b[0;32m      7\u001b[0m ax\u001b[39m.\u001b[39mimshow(im)\n",
      "\u001b[1;31merror\u001b[0m: OpenCV(4.8.0) D:\\a\\opencv-python\\opencv-python\\opencv\\modules\\imgproc\\src\\color.cpp:182: error: (-215:Assertion failed) !_src.empty() in function 'cv::cvtColor'\n"
     ]
    }
   ],
   "source": [
    "import numpy as np\n",
    "import cv2 as cv\n",
    "import matplotlib.pyplot as plt\n",
    "im=cv.imread(\"Screenshot.png\",cv.IMREAD_COLOR)\n",
    "im=cv.cvtColor(im,cv.COLOR_BGR2RGB)\n",
    "fig,ax=plt.subplots()\n",
    "ax.imshow(im)\n",
    "ax.set_title(\"Random Picture\")\n",
    "plt.show()"
   ]
  }
 ],
 "metadata": {
  "kernelspec": {
   "display_name": "Python 3",
   "language": "python",
   "name": "python3"
  },
  "language_info": {
   "codemirror_mode": {
    "name": "ipython",
    "version": 3
   },
   "file_extension": ".py",
   "mimetype": "text/x-python",
   "name": "python",
   "nbconvert_exporter": "python",
   "pygments_lexer": "ipython3",
   "version": "3.11.4"
  },
  "orig_nbformat": 4
 },
 "nbformat": 4,
 "nbformat_minor": 2
}
