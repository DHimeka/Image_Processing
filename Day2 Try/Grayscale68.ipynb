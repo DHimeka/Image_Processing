{
 "cells": [
  {
   "cell_type": "code",
   "execution_count": null,
   "metadata": {},
   "outputs": [],
   "source": [
    "import cv2 as cv\n",
    "import numpy as np\n",
    "import matplotlib.pyplot as plt\n",
    "im=np.zeros((6,8),dtype=np.uint8)\n",
    "im[2,3]=255\n",
    "fig,ax=plt.subplots()\n",
    "ax.imshow(im,cmap='gray',vmin=0,vmax=255)\n",
    "ax.xaxis.tick_top()\n",
    "plt.show()\n"
   ]
  }
 ],
 "metadata": {
  "kernelspec": {
   "display_name": "Python 3",
   "language": "python",
   "name": "python3"
  },
  "language_info": {
   "name": "python",
   "version": "3.11.4"
  },
  "orig_nbformat": 4
 },
 "nbformat": 4,
 "nbformat_minor": 2
}
