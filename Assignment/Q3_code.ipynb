{
 "cells": [
  {
   "cell_type": "code",
   "execution_count": 1,
   "metadata": {},
   "outputs": [],
   "source": [
    "#CIELAB color space, also referred to as L*a*b*, is a color space \n",
    "#L* for perceptual lightness and a* and b* for the four unique colors of human vision: red, green, blue and yellow.\n",
    "#going to apply gamma correction to L plane in this color space.\n",
    "\n",
    "import cv2 as cv\n",
    "import matplotlib.pyplot as plt\n",
    "import numpy as np\n",
    "\n",
    "img_orig = cv.imread('(3).jpg', cv.IMREAD_COLOR)\n",
    "#print(img_orig.shape)\n",
    "\n",
    "cv.namedWindow(\"Image\", cv.WINDOW_AUTOSIZE)\n",
    "cv.imshow(\"Image\", img_orig)\n",
    "cv.waitKey(0)\n",
    "gamma = 5.\n",
    "table = np.array([(i/255.0)**(gamma)*255.0 for i in np.arange(0,256)]).astype('uint8')\n",
    "img_gamma = cv.LUT(img_orig, table)\n",
    "cv.namedWindow(\"Gamma Corrected\", cv.WINDOW_AUTOSIZE)\n",
    "cv.imshow(\"Gamma Corrected\", img_gamma)\n",
    "\n",
    "cv.waitKey(0)\n",
    "cv.destroyAllWindows()"
   ]
  },
  {
   "cell_type": "code",
   "execution_count": 5,
   "metadata": {},
   "outputs": [],
   "source": []
  }
 ],
 "metadata": {
  "kernelspec": {
   "display_name": "Python 3",
   "language": "python",
   "name": "python3"
  },
  "language_info": {
   "codemirror_mode": {
    "name": "ipython",
    "version": 3
   },
   "file_extension": ".py",
   "mimetype": "text/x-python",
   "name": "python",
   "nbconvert_exporter": "python",
   "pygments_lexer": "ipython3",
   "version": "3.11.4"
  },
  "orig_nbformat": 4
 },
 "nbformat": 4,
 "nbformat_minor": 2
}
