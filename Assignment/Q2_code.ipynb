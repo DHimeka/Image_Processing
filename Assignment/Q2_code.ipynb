{
 "cells": [
  {
   "cell_type": "code",
   "execution_count": 1,
   "metadata": {},
   "outputs": [],
   "source": [
    "import numpy as np\n",
    "import cv2\n",
    "\n",
    "# Load the grayscale brain image\n",
    "image_path = '(2).jpg'  # Replace with your image path\n",
    "original_image = cv2.imread(image_path, cv2.IMREAD_GRAYSCALE)\n",
    "\n",
    "# Apply a power-law (gamma) transformation for white matter enhancement\n",
    "gamma = 3 # Adjust the gamma value based on your image\n",
    "gamma_transformed = np.power(original_image / 255.0, gamma)\n",
    "gamma_transformed = np.uint8(gamma_transformed * 255)\n",
    "\n",
    "# Display the original image and gamma-transformed image\n",
    "cv2.imshow('Original Image', original_image)\n",
    "cv2.imshow('Gamma-Transformed white ME Image', gamma_transformed)\n",
    "\n",
    "cv2.waitKey(0)\n",
    "cv2.destroyAllWindows()\n"
   ]
  },
  {
   "cell_type": "code",
   "execution_count": 2,
   "metadata": {},
   "outputs": [
    {
     "name": "stderr",
     "output_type": "stream",
     "text": [
      "C:\\Users\\DELL\\AppData\\Local\\Temp\\ipykernel_7952\\1137007004.py:10: RuntimeWarning: divide by zero encountered in power\n",
      "  gamma_transformed = np.power(original_image / 255.0, gamma)\n",
      "C:\\Users\\DELL\\AppData\\Local\\Temp\\ipykernel_7952\\1137007004.py:11: RuntimeWarning: invalid value encountered in cast\n",
      "  gamma_transformed = np.uint8(gamma_transformed * 255)\n"
     ]
    }
   ],
   "source": [
    "import numpy as np\n",
    "import cv2\n",
    "\n",
    "# Load the grayscale brain image\n",
    "image_path = '(2).jpg'  # Replace with your image path\n",
    "original_image = cv2.imread(image_path, cv2.IMREAD_GRAYSCALE)\n",
    "\n",
    "# Apply a power-law (gamma) transformation for white matter enhancement\n",
    "gamma = -0.01 # Adjust the gamma value based on your image\n",
    "gamma_transformed = np.power(original_image / 255.0, gamma)\n",
    "gamma_transformed = np.uint8(gamma_transformed * 255)\n",
    "\n",
    "# Display the original image and gamma-transformed image\n",
    "cv2.imshow('Original Image', original_image)\n",
    "cv2.imshow('Gamma-Transformed Gray ME Image', gamma_transformed)\n",
    "\n",
    "cv2.waitKey(0)\n",
    "cv2.destroyAllWindows()\n"
   ]
  },
  {
   "cell_type": "code",
   "execution_count": 3,
   "metadata": {},
   "outputs": [
    {
     "data": {
      "text/plain": [
       "True"
      ]
     },
     "execution_count": 3,
     "metadata": {},
     "output_type": "execute_result"
    }
   ],
   "source": [
    "#intensity transformation for white matter enhancement\n",
    "import cv2\n",
    "import numpy as np\n",
    "\n",
    "# Load the image\n",
    "image = cv2.imread('(2).jpg')  # Replace with your image file path\n",
    "\n",
    "# Convert the image to the HSV color space\n",
    "hsv_image = cv2.cvtColor(image, cv2.COLOR_BGR2HSV)\n",
    "\n",
    "# Define the range for white color in HSV\n",
    "lower_white = np.array([0, 0, 200])  # Adjust the threshold values as needed\n",
    "upper_white = np.array([179, 50, 255])  # Adjust the threshold values as needed\n",
    "\n",
    "# Create a mask for white color\n",
    "white_mask = cv2.inRange(hsv_image, lower_white, upper_white)\n",
    "\n",
    "# Emphasize the white color by applying the mask to the original image\n",
    "emphasized_image = cv2.bitwise_and(image, image, mask=white_mask)\n",
    "\n",
    "# Display the original and emphasized images\n",
    "cv2.imshow('Original Image', image)\n",
    "cv2.imshow('Emphasized Image', emphasized_image)\n",
    "cv2.waitKey(0)\n",
    "cv2.destroyAllWindows()\n",
    "\n",
    "cv2.imwrite('white.jpg', emphasized_image)\n"
   ]
  },
  {
   "cell_type": "code",
   "execution_count": 4,
   "metadata": {},
   "outputs": [
    {
     "name": "stdout",
     "output_type": "stream",
     "text": [
      "(217, 181)\n"
     ]
    }
   ],
   "source": [
    "import numpy as np\n",
    "import matplotlib.pyplot as plt\n",
    "import cv2 as cv\n",
    "\n",
    "\n",
    "t=np.arange(255,-1,-1).astype(np.uint8)\n",
    "t_modified = np.where(t < 100, t * 2, t)\n",
    "\n",
    "f=cv.imread('(2).jpg',cv.IMREAD_GRAYSCALE)\n",
    "print(f.shape)\n",
    "#g=t[f]\n",
    "cv.namedWindow('image',cv.WINDOW_AUTOSIZE)\n",
    "cv.imshow('image',f)\n",
    "cv.waitKey(0)\n",
    "\n",
    "image_transformed=cv.LUT(f,t_modified)   \n",
    "cv.imshow('image_transformed',image_transformed)\n",
    "cv.waitKey(0)\n",
    "cv.destroyAllWindows()\n",
    "\n",
    "\n"
   ]
  },
  {
   "cell_type": "code",
   "execution_count": 5,
   "metadata": {},
   "outputs": [],
   "source": []
  }
 ],
 "metadata": {
  "kernelspec": {
   "display_name": "Python 3",
   "language": "python",
   "name": "python3"
  },
  "language_info": {
   "codemirror_mode": {
    "name": "ipython",
    "version": 3
   },
   "file_extension": ".py",
   "mimetype": "text/x-python",
   "name": "python",
   "nbconvert_exporter": "python",
   "pygments_lexer": "ipython3",
   "version": "3.11.4"
  },
  "orig_nbformat": 4
 },
 "nbformat": 4,
 "nbformat_minor": 2
}
