{
 "cells": [
  {
   "cell_type": "code",
   "execution_count": 2,
   "metadata": {},
   "outputs": [],
   "source": [
    "import numpy as np\n",
    "import cv2\n",
    "\n",
    "# Load the grayscale brain image\n",
    "image_path = '(2).jpg'  # Replace with your image path\n",
    "original_image = cv2.imread(image_path, cv2.IMREAD_GRAYSCALE)\n",
    "\n",
    "# Apply a power-law (gamma) transformation for white matter enhancement\n",
    "gamma = 3 # Adjust the gamma value based on your image\n",
    "gamma_transformed = np.power(original_image / 255.0, gamma)\n",
    "gamma_transformed = np.uint8(gamma_transformed * 255)\n",
    "\n",
    "# Display the original image and gamma-transformed image\n",
    "cv2.imshow('Original Image', original_image)\n",
    "cv2.imshow('Gamma-Transformed white ME Image', gamma_transformed)\n",
    "\n",
    "cv2.waitKey(0)\n",
    "cv2.destroyAllWindows()\n"
   ]
  },
  {
   "cell_type": "code",
   "execution_count": 12,
   "metadata": {},
   "outputs": [
    {
     "name": "stderr",
     "output_type": "stream",
     "text": [
      "C:\\Users\\DELL\\AppData\\Local\\Temp\\ipykernel_9904\\1137007004.py:10: RuntimeWarning: divide by zero encountered in power\n",
      "  gamma_transformed = np.power(original_image / 255.0, gamma)\n",
      "C:\\Users\\DELL\\AppData\\Local\\Temp\\ipykernel_9904\\1137007004.py:11: RuntimeWarning: invalid value encountered in cast\n",
      "  gamma_transformed = np.uint8(gamma_transformed * 255)\n"
     ]
    }
   ],
   "source": [
    "import numpy as np\n",
    "import cv2\n",
    "\n",
    "# Load the grayscale brain image\n",
    "image_path = '(2).jpg'  # Replace with your image path\n",
    "original_image = cv2.imread(image_path, cv2.IMREAD_GRAYSCALE)\n",
    "\n",
    "# Apply a power-law (gamma) transformation for white matter enhancement\n",
    "gamma = -0.01 # Adjust the gamma value based on your image\n",
    "gamma_transformed = np.power(original_image / 255.0, gamma)\n",
    "gamma_transformed = np.uint8(gamma_transformed * 255)\n",
    "\n",
    "# Display the original image and gamma-transformed image\n",
    "cv2.imshow('Original Image', original_image)\n",
    "cv2.imshow('Gamma-Transformed Gray ME Image', gamma_transformed)\n",
    "\n",
    "cv2.waitKey(0)\n",
    "cv2.destroyAllWindows()\n"
   ]
  }
 ],
 "metadata": {
  "kernelspec": {
   "display_name": "Python 3",
   "language": "python",
   "name": "python3"
  },
  "language_info": {
   "codemirror_mode": {
    "name": "ipython",
    "version": 3
   },
   "file_extension": ".py",
   "mimetype": "text/x-python",
   "name": "python",
   "nbconvert_exporter": "python",
   "pygments_lexer": "ipython3",
   "version": "3.11.4"
  },
  "orig_nbformat": 4
 },
 "nbformat": 4,
 "nbformat_minor": 2
}
