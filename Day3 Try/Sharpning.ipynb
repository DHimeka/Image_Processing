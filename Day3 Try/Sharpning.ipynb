{
 "cells": [
  {
   "cell_type": "code",
   "execution_count": null,
   "metadata": {},
   "outputs": [],
   "source": [
    "import cv2 as cv\n",
    "import numpy as np\n",
    "\n",
    "original=cv.imread('tom.jpg',cv.IMREAD_GRAYSCALE)\n",
    "assert original is not None\n",
    "\n",
    "smoothned = cv.GaussianBlur(original,(5,5),0).astype(np.float32)\n",
    "difference = original - smoothned\n",
    "sharpened = cv.addWeighted(original,1,difference,1.5,0)\n",
    "\n",
    "#Display all images\n",
    "\n"
   ]
  }
 ],
 "metadata": {
  "language_info": {
   "name": "python"
  },
  "orig_nbformat": 4
 },
 "nbformat": 4,
 "nbformat_minor": 2
}
