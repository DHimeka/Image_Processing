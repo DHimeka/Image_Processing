{
  "cells": [
    {
      "cell_type": "code",
      "execution_count": 21,
      "metadata": {
        "collapsed": false
      },
      "outputs": [],
      "source": [
        "from math import sqrt\n",
        "from skimage import data\n",
        "from skimage.feature import blob_dog, blob_log, blob_doh\n",
        "from skimage.color import rgb2gray\n",
        "import cv2\n",
        "import matplotlib.pyplot as plt\n",
        "\n",
        "\n",
        "image = cv2.imread('(2.1).jpeg',cv2.IMREAD_REDUCED_COLOR_4)\n",
        "image_gray = rgb2gray(image)\n",
        "\n",
        "blobs_log = blob_log(image_gray, min_sigma=1,max_sigma=20, num_sigma=10, threshold=.1)\n",
        "\n",
        "# Compute radii in the 3rd column.\n",
        "blobs_log[:, 2] = blobs_log[:, 2] * sqrt(2)\n",
        "\n",
        "if blobs_log is not None:\n",
        "    for blob in blobs_log:\n",
        "        y, x, r = blob\n",
        "        cv2.circle(image, (int(x), int(y)), int(r), (0, 0, 255), 1)  # Draw a yellow circle\n",
        "\n",
        "\n",
        "# Display the image with detected circles\n",
        "cv2.namedWindow(\"Blob Detection\", cv2.WINDOW_NORMAL)  # Create a resizable window\n",
        "cv2.resizeWindow(\"Blob Detection\", 800, 600)  # Set the window size (adjust as needed)\n",
        "cv2.imshow(\"Blob Detection\", image)\n",
        "cv2.waitKey(0)\n",
        "cv2.destroyAllWindows()\n",
        "\n",
        "\n",
        "\n"
      ]
    }
  ],
  "metadata": {
    "kernelspec": {
      "display_name": "Python 3",
      "language": "python",
      "name": "python3"
    },
    "language_info": {
      "codemirror_mode": {
        "name": "ipython",
        "version": 3
      },
      "file_extension": ".py",
      "mimetype": "text/x-python",
      "name": "python",
      "nbconvert_exporter": "python",
      "pygments_lexer": "ipython3",
      "version": "3.11.4"
    }
  },
  "nbformat": 4,
  "nbformat_minor": 0
}
